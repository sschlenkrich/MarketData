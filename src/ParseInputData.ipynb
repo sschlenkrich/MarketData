{
 "cells": [
  {
   "cell_type": "markdown",
   "metadata": {},
   "source": [
    "# Parse Input Data\n",
    "\n",
    "This notebook implements data parsing and data normalisation."
   ]
  },
  {
   "cell_type": "code",
   "execution_count": null,
   "metadata": {},
   "outputs": [],
   "source": [
    "import pandas as pd\n",
    "import QuantLib as ql\n",
    "import numpy as np\n",
    "\n",
    "import plotly.express as px\n",
    "from plotly.subplots import make_subplots\n",
    "import plotly.graph_objects as go\n"
   ]
  },
  {
   "cell_type": "markdown",
   "metadata": {},
   "source": [
    "## ECB Data\n",
    "\n",
    "ECB data are EUR yield curves and EUR-denominated FX rates."
   ]
  },
  {
   "cell_type": "code",
   "execution_count": null,
   "metadata": {},
   "outputs": [],
   "source": [
    "path = \"../data/input/ecb/\""
   ]
  },
  {
   "cell_type": "markdown",
   "metadata": {},
   "source": [
    "### FX Rates"
   ]
  },
  {
   "cell_type": "code",
   "execution_count": null,
   "metadata": {},
   "outputs": [],
   "source": [
    "file_name = \"ECB Data Portal_20240512160936_fx.csv\"\n",
    "data = pd.read_csv(path + file_name)\n",
    "data = data.drop([\"TIME PERIOD\"], axis=1)\n",
    "data = data.rename(\n",
    "    {\n",
    "        \"Swiss franc/Euro (EXR.D.CHF.EUR.SP00.A)\" : \"CHF-EUR\",\n",
    "        \"Chinese yuan renminbi/Euro (EXR.D.CNY.EUR.SP00.A)\" : \"CNY-EUR\",\n",
    "        \"UK pound sterling/Euro (EXR.D.GBP.EUR.SP00.A)\" : \"GBP-EUR\",\n",
    "        \"Japanese yen/Euro (EXR.D.JPY.EUR.SP00.A)\" : \"JPY-EUR\",\n",
    "        \"US dollar/Euro (EXR.D.USD.EUR.SP00.A)\" : \"USD-EUR\",\n",
    "    },\n",
    "    axis = 1,\n",
    ")\n",
    "data[\"DATE\"] = pd.to_datetime(data[\"DATE\"])\n",
    "data"
   ]
  },
  {
   "cell_type": "code",
   "execution_count": null,
   "metadata": {},
   "outputs": [],
   "source": [
    "fig = make_subplots(rows = 5, cols = 1, subplot_titles=(\"USD-EUR\", \"GBP-EUR\", \"CHF-EUR\", \"JPY-EUR\", \"CNY-EUR\"))\n",
    "fig.add_trace(go.Scatter(x=data[\"DATE\"], y=data[\"USD-EUR\"]), row=1, col=1)\n",
    "fig.add_trace(go.Scatter(x=data[\"DATE\"], y=data[\"GBP-EUR\"]), row=2, col=1)\n",
    "fig.add_trace(go.Scatter(x=data[\"DATE\"], y=data[\"CHF-EUR\"]), row=3, col=1)\n",
    "fig.add_trace(go.Scatter(x=data[\"DATE\"], y=data[\"JPY-EUR\"]), row=4, col=1)\n",
    "fig.add_trace(go.Scatter(x=data[\"DATE\"], y=data[\"CNY-EUR\"]), row=5, col=1)\n",
    "fig.update_layout(height=900, width=1600, showlegend=False)\n",
    "\n",
    "fig.show()"
   ]
  },
  {
   "cell_type": "markdown",
   "metadata": {},
   "source": [
    "### Interest Rates"
   ]
  },
  {
   "cell_type": "code",
   "execution_count": null,
   "metadata": {},
   "outputs": [],
   "source": [
    "file_name = \"ECB Data Portal_20240512160755_yc.csv\"\n",
    "data = pd.read_csv(path + file_name)\n",
    "data = data.drop([\"TIME PERIOD\"], axis=1)\n",
    "terms = [ label.split(\" \")[-1][1:-1].split(\"_\")[-1] for label in data.columns[1:] ]\n",
    "data = data.rename(dict( zip(data.columns[1:], terms)), axis = 1)\n",
    "cols = [ \"DATE\",\n",
    "    \"3M\", \"6M\", \"9M\", \"1Y\", \"2Y\", \"3Y\",\n",
    "    \"4Y\", \"5Y\", \"6Y\", \"7Y\", \"8Y\", \"9Y\",\n",
    "    \"10Y\", \"12Y\", \"15Y\", \"20Y\", \"25Y\", \"30Y\",\n",
    "]\n",
    "data = data[cols]\n",
    "data[\"DATE\"] = pd.to_datetime(data[\"DATE\"])"
   ]
  },
  {
   "cell_type": "code",
   "execution_count": null,
   "metadata": {},
   "outputs": [],
   "source": [
    "data"
   ]
  },
  {
   "cell_type": "code",
   "execution_count": null,
   "metadata": {},
   "outputs": [],
   "source": [
    "px.line(data, x=\"DATE\", y=data.columns[1:])"
   ]
  },
  {
   "cell_type": "markdown",
   "metadata": {},
   "source": [
    "## UK Bank of England Data"
   ]
  },
  {
   "cell_type": "code",
   "execution_count": null,
   "metadata": {},
   "outputs": [],
   "source": [
    "path = \"../data/input/boe/\""
   ]
  },
  {
   "cell_type": "code",
   "execution_count": null,
   "metadata": {},
   "outputs": [],
   "source": [
    "def boe_data(path, file_name, sheet_name):\n",
    "    data = pd.read_excel(path + file_name, sheet_name=sheet_name, header=3)\n",
    "    data = data.drop(0, axis=0)\n",
    "    data = data.rename({ \"years:\" : \"DATE\" }, axis=1)\n",
    "    data[\"DATE\"] = pd.to_datetime(data[\"DATE\"])\n",
    "    terms = [ str(round(12*y)) + \"M\" for y in data.columns[1:]]\n",
    "    data = data.rename(dict( zip(data.columns[1:], terms)), axis = 1)\n",
    "    return data"
   ]
  },
  {
   "cell_type": "markdown",
   "metadata": {},
   "source": [
    "### Period 2000 - 2004, Short End"
   ]
  },
  {
   "cell_type": "code",
   "execution_count": null,
   "metadata": {},
   "outputs": [],
   "source": [
    "file_name = \"GLC Nominal daily data_2000 to 2004.xlsx\"\n",
    "sheet_name = \"3. nominal spot, short end\"\n",
    "data = boe_data(path, file_name, sheet_name)\n",
    "data"
   ]
  },
  {
   "cell_type": "markdown",
   "metadata": {},
   "source": [
    "### Period 2000 - 2004, Long End"
   ]
  },
  {
   "cell_type": "code",
   "execution_count": null,
   "metadata": {},
   "outputs": [],
   "source": [
    "file_name = \"GLC Nominal daily data_2000 to 2004.xlsx\"\n",
    "sheet_name = \"4. nominal spot curve\"\n",
    "data = boe_data(path, file_name, sheet_name)\n",
    "data"
   ]
  },
  {
   "cell_type": "markdown",
   "metadata": {},
   "source": [
    "### Period 2005 - 2015, Short End"
   ]
  },
  {
   "cell_type": "code",
   "execution_count": null,
   "metadata": {},
   "outputs": [],
   "source": [
    "file_name = \"GLC Nominal daily data_2005 to 2015.xlsx\"\n",
    "sheet_name = \"3. spot, short end\"\n",
    "data = boe_data(path, file_name, sheet_name)\n",
    "data"
   ]
  },
  {
   "cell_type": "markdown",
   "metadata": {},
   "source": [
    "### Period 2005 - 2015, Long End"
   ]
  },
  {
   "cell_type": "code",
   "execution_count": null,
   "metadata": {},
   "outputs": [],
   "source": [
    "file_name = \"GLC Nominal daily data_2005 to 2015.xlsx\"\n",
    "sheet_name = \"4. spot curve\"\n",
    "data = boe_data(path, file_name, sheet_name)\n",
    "data"
   ]
  },
  {
   "cell_type": "markdown",
   "metadata": {},
   "source": [
    "### Period 2016 - Present, Short End"
   ]
  },
  {
   "cell_type": "code",
   "execution_count": null,
   "metadata": {},
   "outputs": [],
   "source": [
    "file_name = \"GLC Nominal daily data_2016 to present.xlsx\"\n",
    "sheet_name = \"3. spot, short end\"\n",
    "data = boe_data(path, file_name, sheet_name)\n",
    "data"
   ]
  },
  {
   "cell_type": "markdown",
   "metadata": {},
   "source": [
    "### Period 2016 - Present, Long End"
   ]
  },
  {
   "cell_type": "code",
   "execution_count": null,
   "metadata": {},
   "outputs": [],
   "source": [
    "file_name = \"GLC Nominal daily data_2016 to present.xlsx\"\n",
    "sheet_name = \"4. spot curve\"\n",
    "data = boe_data(path, file_name, sheet_name)\n",
    "data"
   ]
  },
  {
   "cell_type": "code",
   "execution_count": null,
   "metadata": {},
   "outputs": [],
   "source": [
    "px.line(data, x=\"DATE\", y=data.columns[1:])"
   ]
  },
  {
   "cell_type": "markdown",
   "metadata": {},
   "source": [
    "## US Treasury Data"
   ]
  },
  {
   "cell_type": "code",
   "execution_count": null,
   "metadata": {},
   "outputs": [],
   "source": [
    "path = \"../data/input/us_treasury/\""
   ]
  },
  {
   "cell_type": "code",
   "execution_count": null,
   "metadata": {},
   "outputs": [],
   "source": [
    "def us_data(path, file_name):\n",
    "    data = pd.read_csv(path + file_name)\n",
    "    data = data.rename({ \"Date\" : \"DATE\" }, axis=1)\n",
    "    terms = [ label.replace(\" \", \"\")[0:-1] for label in data.columns[1:] ]\n",
    "    data = data.rename(dict( zip(data.columns[1:], terms)), axis = 1)\n",
    "    try:\n",
    "        data[\"DATE\"] = pd.to_datetime(data[\"DATE\"], format=\"%m/%d/%y\")\n",
    "    except ValueError:\n",
    "        data[\"DATE\"] = pd.to_datetime(data[\"DATE\"], format=\"%m/%d/%Y\")\n",
    "    return data    "
   ]
  },
  {
   "cell_type": "code",
   "execution_count": null,
   "metadata": {},
   "outputs": [],
   "source": [
    "file_name = \"yield-curve-rates-1990-2023.csv\"\n",
    "data = us_data(path, file_name)\n",
    "data"
   ]
  },
  {
   "cell_type": "code",
   "execution_count": null,
   "metadata": {},
   "outputs": [],
   "source": [
    "file_name = \"daily-treasury-rates.csv\"\n",
    "data = us_data(path, file_name)\n",
    "data"
   ]
  }
 ],
 "metadata": {
  "kernelspec": {
   "display_name": "QuantLib",
   "language": "python",
   "name": "python3"
  },
  "language_info": {
   "codemirror_mode": {
    "name": "ipython",
    "version": 3
   },
   "file_extension": ".py",
   "mimetype": "text/x-python",
   "name": "python",
   "nbconvert_exporter": "python",
   "pygments_lexer": "ipython3",
   "version": "3.11.5"
  }
 },
 "nbformat": 4,
 "nbformat_minor": 2
}
